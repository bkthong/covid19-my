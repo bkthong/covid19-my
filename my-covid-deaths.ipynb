{
 "cells": [
  {
   "cell_type": "markdown",
   "id": "fb45f734",
   "metadata": {},
   "source": [
    "### Load the data set on covid deaths in malaysia"
   ]
  },
  {
   "cell_type": "code",
   "execution_count": null,
   "id": "f77a685c",
   "metadata": {},
   "outputs": [],
   "source": [
    "import pandas as pd\n",
    "import matplotlib.pyplot as plt"
   ]
  },
  {
   "cell_type": "code",
   "execution_count": null,
   "id": "5ebec55e",
   "metadata": {},
   "outputs": [],
   "source": [
    "deathdf = pd.read_csv('https://raw.githubusercontent.com/MoH-Malaysia/covid19-public/main/epidemic/deaths_malaysia.csv' , parse_dates=['date'])"
   ]
  },
  {
   "cell_type": "code",
   "execution_count": null,
   "id": "ebb19d03",
   "metadata": {},
   "outputs": [],
   "source": [
    "deathdf.head()"
   ]
  },
  {
   "cell_type": "markdown",
   "id": "b3f2b706",
   "metadata": {},
   "source": [
    "### Calculate the death_unvaxxed column. (deaths_new_dod - deaths_pvax - deaths_fvax)"
   ]
  },
  {
   "cell_type": "code",
   "execution_count": null,
   "id": "a730d241",
   "metadata": {},
   "outputs": [],
   "source": [
    "deathdf[\"deaths_unvaxxed\"] = deathdf['deaths_new_dod'] - deathdf['deaths_pvax'] - deathdf['deaths_fvax']"
   ]
  },
  {
   "cell_type": "markdown",
   "id": "1c6fa960",
   "metadata": {},
   "source": [
    "### Select the columns we want. Filtering records for year 2022 only for now.\n",
    "- Did not truncate last 7 days of data which is not finalized "
   ]
  },
  {
   "cell_type": "code",
   "execution_count": null,
   "id": "b6929133",
   "metadata": {},
   "outputs": [],
   "source": [
    "df = deathdf[ ['date', 'deaths_new_dod', 'deaths_unvaxxed' ,'deaths_pvax' , 'deaths_fvax']]\n",
    "df = df[df['date'].dt.year == 2022]\n",
    "df.head()"
   ]
  },
  {
   "cell_type": "markdown",
   "id": "b5d3c342",
   "metadata": {},
   "source": []
  },
  {
   "cell_type": "code",
   "execution_count": null,
   "id": "e39f5d8c",
   "metadata": {},
   "outputs": [],
   "source": [
    "df.tail()"
   ]
  },
  {
   "cell_type": "code",
   "execution_count": null,
   "id": "4a90ec10",
   "metadata": {},
   "outputs": [],
   "source": [
    "df.dtypes"
   ]
  },
  {
   "cell_type": "code",
   "execution_count": null,
   "id": "f368c61c",
   "metadata": {},
   "outputs": [],
   "source": [
    "x = df['date']\n",
    "\n",
    "#Set graph size\n",
    "plt.figure(figsize=(20,15))\n",
    "\n",
    "# Plot the lines\n",
    "plt.plot(x, df['deaths_unvaxxed'] , 'r' , label='unvaxxed')\n",
    "plt.plot(x, df['deaths_pvax'] , 'b' , label='partially vaxxed')\n",
    "plt.plot(x, df['deaths_fvax'] , 'g' , label='fully vaxxed')\n",
    "\n",
    "# Set labels and enable legend\n",
    "plt.ylabel('Number of Deaths (date of death)')\n",
    "plt.xlabel('Date')\n",
    "plt.legend()\n",
    "\n",
    "# Show the graph\n",
    "plt.show()"
   ]
  },
  {
   "cell_type": "code",
   "execution_count": null,
   "id": "9a911cc2",
   "metadata": {},
   "outputs": [],
   "source": []
  }
 ],
 "metadata": {
  "kernelspec": {
   "display_name": "Python 3 (ipykernel)",
   "language": "python",
   "name": "python3"
  },
  "language_info": {
   "codemirror_mode": {
    "name": "ipython",
    "version": 3
   },
   "file_extension": ".py",
   "mimetype": "text/x-python",
   "name": "python",
   "nbconvert_exporter": "python",
   "pygments_lexer": "ipython3",
   "version": "3.9.12"
  }
 },
 "nbformat": 4,
 "nbformat_minor": 5
}
